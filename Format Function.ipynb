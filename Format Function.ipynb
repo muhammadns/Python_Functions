{
 "cells": [
  {
   "cell_type": "code",
   "execution_count": 12,
   "metadata": {},
   "outputs": [
    {
     "name": "stdout",
     "output_type": "stream",
     "text": [
      "Research Papers is a good option for beginners in python\n"
     ]
    }
   ],
   "source": [
    "# single formatter.\n",
    "\n",
    "print(\"{} is a good option for beginners in python\".format(\"Research Papers\"))"
   ]
  },
  {
   "cell_type": "code",
   "execution_count": 14,
   "metadata": {},
   "outputs": [
    {
     "name": "stdout",
     "output_type": "stream",
     "text": [
      "Research Papers is a good option for beginners in python\n"
     ]
    }
   ],
   "source": [
    "# formatter with variable.\n",
    "my_string = \"{} is a good option for beginners in python\"\n",
    "print(my_string.format(\"Research Papers\"))"
   ]
  },
  {
   "cell_type": "code",
   "execution_count": 15,
   "metadata": {},
   "outputs": [
    {
     "name": "stdout",
     "output_type": "stream",
     "text": [
      "Research Papers is a good option for beginners in Machine Learning\n"
     ]
    }
   ],
   "source": [
    "# multiple formatter\n",
    "\n",
    "my_string = \"{} is a good option for beginners in {}\"\n",
    "print(my_string.format(\"Research Papers\",\"Machine Learning\"))"
   ]
  },
  {
   "cell_type": "code",
   "execution_count": 16,
   "metadata": {},
   "outputs": [
    {
     "name": "stdout",
     "output_type": "stream",
     "text": [
      "Research Papers is an excelent option for experienced in Machine Learning\n"
     ]
    }
   ],
   "source": [
    "# multiple formatter\n",
    "\n",
    "my_string = \"{} is an {} option for {} in {}\"\n",
    "print(my_string.format(\"Research Papers\",\"excelent\",\"experienced\",\"Machine Learning\"))"
   ]
  },
  {
   "cell_type": "code",
   "execution_count": 19,
   "metadata": {},
   "outputs": [
    {
     "name": "stdout",
     "output_type": "stream",
     "text": [
      "Machine Learning is a good option for beginners in Research Papers\n"
     ]
    }
   ],
   "source": [
    "# formatter using positional arguments\n",
    "\n",
    "my_string = \"{1} is a good option for beginners in {0}\"\n",
    "print(my_string.format(\"Research Papers\",\"Machine Learning\"))"
   ]
  },
  {
   "cell_type": "code",
   "execution_count": 20,
   "metadata": {},
   "outputs": [
    {
     "name": "stdout",
     "output_type": "stream",
     "text": [
      "Research Papers is a good option for beginners in Machine Learning\n"
     ]
    }
   ],
   "source": [
    "# formatter using keyword arguments\n",
    "\n",
    "my_string = \"{0} is a good option for beginners in {domain}\"\n",
    "print(my_string.format(\"Research Papers\",domain = \"Machine Learning\"))"
   ]
  },
  {
   "cell_type": "markdown",
   "metadata": {},
   "source": [
    "Type specification:\n",
    "s -- strings,\n",
    "d -- decimal integers (base-10),\n",
    "f -- folat,\n",
    "c -- character,\n",
    "b -- binary,\n",
    "o -- octal,\n",
    "x -- hexadecimal with lowercase letter after 9,\n",
    "e -- exponent notation."
   ]
  },
  {
   "cell_type": "code",
   "execution_count": 25,
   "metadata": {},
   "outputs": [
    {
     "name": "stdout",
     "output_type": "stream",
     "text": [
      "The temperature in Karachi today is 22 degrees outside!\n"
     ]
    }
   ],
   "source": [
    "my_string = \"The temperature in {0} today is {1:d} degrees outside!\"\n",
    "print(my_string.format(\"Karachi\", 22))"
   ]
  },
  {
   "cell_type": "code",
   "execution_count": 29,
   "metadata": {},
   "outputs": [
    {
     "name": "stdout",
     "output_type": "stream",
     "text": [
      "The temperature in Karachi today is 22.025000 degrees outside!\n"
     ]
    }
   ],
   "source": [
    "my_string = \"The temperature in {0} today is {1:f} degrees outside!\"\n",
    "print(my_string.format(\"Karachi\", 22.025))"
   ]
  },
  {
   "cell_type": "code",
   "execution_count": 30,
   "metadata": {},
   "outputs": [
    {
     "name": "stdout",
     "output_type": "stream",
     "text": [
      "The temperature in Karachi today is 22.02 degrees outside!\n"
     ]
    }
   ],
   "source": [
    "my_string = \"The temperature in {0} today is {1:.2f} degrees outside!\"\n",
    "print(my_string.format(\"Karachi\", 22.025))"
   ]
  },
  {
   "cell_type": "code",
   "execution_count": 31,
   "metadata": {},
   "outputs": [],
   "source": [
    "# Spacing and alignment using formatter:\n",
    "# < : left align text,\n",
    "# ^ : center align text.\n",
    "# > : right align text."
   ]
  },
  {
   "cell_type": "code",
   "execution_count": 34,
   "metadata": {},
   "outputs": [
    {
     "name": "stdout",
     "output_type": "stream",
     "text": [
      "The temperature in Karachi    today is 22 degrees outside!\n"
     ]
    }
   ],
   "source": [
    "my_string = \"The temperature in {0} today is {1:d} degrees outside!\"\n",
    "print(my_string.format(\"Karachi\", 22))"
   ]
  },
  {
   "cell_type": "code",
   "execution_count": 38,
   "metadata": {},
   "outputs": [
    {
     "name": "stdout",
     "output_type": "stream",
     "text": [
      "The temperature in Karachi today is         22 degrees outside!\n"
     ]
    }
   ],
   "source": [
    "my_string = \"The temperature in {0} today is {1:10} degrees outside!\"\n",
    "print(my_string.format(\"Karachi\", 22))"
   ]
  },
  {
   "cell_type": "code",
   "execution_count": 39,
   "metadata": {},
   "outputs": [
    {
     "name": "stdout",
     "output_type": "stream",
     "text": [
      "The temperature in              Karachi today is 22 degrees outside!\n"
     ]
    }
   ],
   "source": [
    "my_string = \"The temperature in {0:>20} today is {1:d} degrees outside!\"\n",
    "print(my_string.format(\"Karachi\", 22))"
   ]
  },
  {
   "cell_type": "code",
   "execution_count": 40,
   "metadata": {},
   "outputs": [
    {
     "name": "stdout",
     "output_type": "stream",
     "text": [
      "The temperature in Karachi              today is 22 degrees outside!\n"
     ]
    }
   ],
   "source": [
    "my_string = \"The temperature in {0:<20} today is {1:d} degrees outside!\"\n",
    "print(my_string.format(\"Karachi\", 22))"
   ]
  },
  {
   "cell_type": "code",
   "execution_count": 41,
   "metadata": {},
   "outputs": [
    {
     "name": "stdout",
     "output_type": "stream",
     "text": [
      "The temperature in       Karachi        today is 22 degrees outside!\n"
     ]
    }
   ],
   "source": [
    "my_string = \"The temperature in {0:^20} today is {1:d} degrees outside!\"\n",
    "print(my_string.format(\"Karachi\", 22))"
   ]
  },
  {
   "cell_type": "code",
   "execution_count": 46,
   "metadata": {},
   "outputs": [
    {
     "name": "stdout",
     "output_type": "stream",
     "text": [
      "     4     16     64\n",
      "     5     25    125\n",
      "     6     36    216\n",
      "     7     49    343\n",
      "     8     64    512\n",
      "     9     81    729\n",
      "    10    100   1000\n",
      "    11    121   1331\n",
      "    12    144   1728\n",
      "    13    169   2197\n",
      "    14    196   2744\n"
     ]
    }
   ],
   "source": [
    "# organizing data.\n",
    "\n",
    "for i in range(4,15):\n",
    "    print(\"{:6d} {:6d} {:6d}\".format(i,i*i,i*i*i))"
   ]
  },
  {
   "cell_type": "code",
   "execution_count": null,
   "metadata": {
    "scrolled": false
   },
   "outputs": [],
   "source": []
  }
 ],
 "metadata": {
  "kernelspec": {
   "display_name": "Python 3",
   "language": "python",
   "name": "python3"
  },
  "language_info": {
   "codemirror_mode": {
    "name": "ipython",
    "version": 3
   },
   "file_extension": ".py",
   "mimetype": "text/x-python",
   "name": "python",
   "nbconvert_exporter": "python",
   "pygments_lexer": "ipython3",
   "version": "3.7.3"
  }
 },
 "nbformat": 4,
 "nbformat_minor": 2
}
