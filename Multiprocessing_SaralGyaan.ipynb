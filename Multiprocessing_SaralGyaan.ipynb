{
 "cells": [
  {
   "cell_type": "code",
   "execution_count": 3,
   "metadata": {},
   "outputs": [
    {
     "name": "stdout",
     "output_type": "stream",
     "text": [
      "The process id is 25084.\n",
      "2 squres is 4\n",
      "The process id is 25084.\n",
      "3 squres is 9\n",
      "It took 2.0 sec(s).\n"
     ]
    }
   ],
   "source": [
    "# Multiprocessing\n",
    "\n",
    "import time\n",
    "import os\n",
    "\n",
    "start = time.time()\n",
    "\n",
    "def print_square(number):\n",
    "    print(f'The process id is {os.getpid()}.')\n",
    "    time.sleep(1)\n",
    "    print(f'{number} squres is {number**2}')\n",
    "    \n",
    "print_square(2)\n",
    "print_square(3)\n",
    "\n",
    "end = time.time()\n",
    "\n",
    "print(f'It took {round(end-start, 2)} sec(s).')"
   ]
  },
  {
   "cell_type": "code",
   "execution_count": 24,
   "metadata": {},
   "outputs": [
    {
     "name": "stdout",
     "output_type": "stream",
     "text": [
      "It took 0.02 sec(s).\n"
     ]
    }
   ],
   "source": [
    "# Multiprocessing\n",
    "\n",
    "import time\n",
    "import os\n",
    "from multiprocessing import process\n",
    "\n",
    "start = time.time()\n",
    "\n",
    "def print_square(number):\n",
    "    print(f'The process id is {os.getpid()}.')\n",
    "    time.sleep(1)\n",
    "    print(f'{number} squres is {number**2}')\n",
    "    \n",
    "p1 = Process(target=print_square, args=[3])\n",
    "p2 = Process(target=print_square, args=[4])\n",
    "p1.start()\n",
    "p2.start()\n",
    "#p1.join()\n",
    "#p2.join()\n",
    "end = time.time()\n",
    "\n",
    "print(f'It took {round(end-start, 2)} sec(s).')"
   ]
  },
  {
   "cell_type": "code",
   "execution_count": 17,
   "metadata": {},
   "outputs": [
    {
     "name": "stdout",
     "output_type": "stream",
     "text": [
      "It took 0.27 sec(s).\n"
     ]
    }
   ],
   "source": [
    "\n",
    "import time\n",
    "import os\n",
    "from multiprocessing import process\n",
    "\n",
    "start = time.time()\n",
    "\n",
    "def print_square(number):\n",
    "    print(f'The process id is {os.getpid()}.')\n",
    "    time.sleep(1)\n",
    "    print(f'{number} squres is {number**2}')\n",
    "    \n",
    "processes = []\n",
    "for i in range(1,11):\n",
    "    p = Process(target=print_square, args=[i] )\n",
    "    p.start()\n",
    "    processes.append(p)\n",
    "for process in processes:\n",
    "    process.join()\n",
    "    \n",
    "end = time.time()\n",
    "\n",
    "print(f'It took {round(end-start, 2)} sec(s).')"
   ]
  },
  {
   "cell_type": "code",
   "execution_count": null,
   "metadata": {},
   "outputs": [],
   "source": []
  }
 ],
 "metadata": {
  "kernelspec": {
   "display_name": "Python 3",
   "language": "python",
   "name": "python3"
  },
  "language_info": {
   "codemirror_mode": {
    "name": "ipython",
    "version": 3
   },
   "file_extension": ".py",
   "mimetype": "text/x-python",
   "name": "python",
   "nbconvert_exporter": "python",
   "pygments_lexer": "ipython3",
   "version": "3.7.3"
  }
 },
 "nbformat": 4,
 "nbformat_minor": 2
}
